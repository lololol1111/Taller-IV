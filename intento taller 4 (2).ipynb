{
 "cells": [
  {
   "cell_type": "markdown",
   "id": "6b9d6912",
   "metadata": {},
   "source": [
    "# Ejercicio II\n",
    "## 1) Calcular $P(X_n=1|X_0=1)$ \n",
    "Para calcular $P(X_n=1|X_0=1) = p_{11}^{(n)}$, buscamos los valores proprios $\\lambda_1, \\lambda_2, \\lambda_3$: \n",
    "\n",
    "$$det(P-\\lambda I) = 0$$\n",
    "\n",
    "$$det\\left(\\begin{vmatrix}-\\lambda & 1 & 0\\\\ 0 & \\frac{2}{3}- \\lambda & \\frac{1}{3} \\\\p & 1-p & -\\lambda\\end{vmatrix}\\right) =\\lambda^2\\left(\\frac{2}{3} -\\lambda \\right ) +\\frac{p}{3} + \\frac{ \\lambda}{3} (1-p)$$\n",
    "\n",
    "\n",
    "$$ = 2 \\lambda^2 - 3 \\lambda ^3 +p + \\lambda +\\lambda p$$\n",
    "$$ = 3 \\lambda^3 - 2\\lambda^2 + (p-1)\\lambda-p = 0$$\n",
    "$$(\\lambda-1)(3\\lambda^2+\\lambda+p)=0$$\n",
    "$\\lambda_1 = 1$ \n",
    "\n",
    "$\\lambda_{2,3} = \\frac{-1 \\pm \\sqrt{1-12p}}{6}$\n",
    "\n"
   ]
  },
  {
   "cell_type": "markdown",
   "id": "0401ead0",
   "metadata": {},
   "source": [
    "### Soluciones reales\n",
    "Si $p\\leq\\frac{1}{12}$ entonces los tres valores proprios seran numerous reales y $p_{11}^{(n)}$ puede escribirse de la siguiente forma:\n",
    "\n",
    "\n",
    "$$p_{11}^{(n)}=a \\lambda_1^n+b \\lambda_2^n+c \\lambda_3^n$$ \n",
    "para algunas costantes *a*, *b* y *c*.\n",
    "\n",
    "\n",
    "Los primeros valores de $p_{11}^{(n)}$ se pueden obtener de la siguiente manera:  \n",
    "\n",
    "\n",
    "\n",
    "\\begin{array}{c c}\n",
    "\\begin{cases}\n",
    "1 = p_{11}^{(0)} = a \\lambda_1^0 + b \\lambda_2^0 + c \\lambda_3^0 \\\\\n",
    "0 = p_{11}^{(1)} = a \\lambda_1^1 + b \\lambda_2^1 + c \\lambda_3^1 \\\\\n",
    "0 = p_{11}^{(2)} = a \\lambda_1^2 + b \\lambda_2^2 + c \\lambda_3^2\n",
    "\\end{cases}\n",
    "& \\Leftrightarrow\n",
    "\\begin{cases}\n",
    "1 = a  + b  + c  \\\\\n",
    "0 = a + b \\lambda_2^1 + c \\lambda_3^1 \\\\\n",
    "0 = a + b \\lambda_2^2 + c \\lambda_3^2\n",
    "\\end{cases}\n",
    "\\end{array}\n",
    "\n",
    "donde: $\\lambda_{2} = \\frac{-1 + \\sqrt{1-12p}}{6}$ y $\\lambda_{3} = \\frac{-1 - \\sqrt{1-12p}}{6}$\n",
    "\n",
    "\n",
    "Procedemos a calcular los valores de las costantes  *a*, *b* y *c* en Python resolvendo el sistema:"
   ]
  },
  {
   "cell_type": "code",
   "execution_count": 1,
   "id": "caf4af9e",
   "metadata": {},
   "outputs": [],
   "source": [
    "import sympy as sp\n",
    "p = sp.symbols('p', real=True, positive=True, less_than=1/12)\n",
    "P = sp.Matrix([[0, 1, 0], [0, 2/3, 1/3], [p, 1-p, 0]])\n",
    "lambda1 = 1\n",
    "lambda2 = (-1+sp.sqrt(1-12*p))/6\n",
    "lambda3 = (-1-sp.sqrt(1-12*p))/6\n"
   ]
  },
  {
   "cell_type": "markdown",
   "id": "43f127ac",
   "metadata": {},
   "source": [
    "En este framento de codigo definimos $0<p\\le\\frac{1}{12}$ y nuestra matriz de transicion P."
   ]
  },
  {
   "cell_type": "code",
   "execution_count": 2,
   "id": "4028edca",
   "metadata": {},
   "outputs": [],
   "source": [
    "a, b, c = sp.symbols('a b c')\n",
    "eq1 = sp.Eq(a + b + c, 1)\n",
    "eq2 = sp.Eq(a*lambda1+ b*lambda2 + c*lambda3, 0)\n",
    "eq3 = sp.Eq(a*lambda1**2 + b*lambda2**2 + c*lambda3**2, 0)\n",
    "sol = sp.solve((eq1, eq2, eq3), (a, b, c))"
   ]
  },
  {
   "cell_type": "markdown",
   "id": "68405f4e",
   "metadata": {},
   "source": [
    "Ahora definimos nuestro sistema y resolvemos"
   ]
  },
  {
   "cell_type": "code",
   "execution_count": 3,
   "id": "7f593490",
   "metadata": {},
   "outputs": [
    {
     "name": "stdout",
     "output_type": "stream",
     "text": [
      "a =  p/(p + 4)\n"
     ]
    }
   ],
   "source": [
    "print('a = ', list(sol.values())[0])"
   ]
  },
  {
   "cell_type": "code",
   "execution_count": 4,
   "id": "6802f1c0",
   "metadata": {},
   "outputs": [
    {
     "name": "stdout",
     "output_type": "stream",
     "text": [
      "b =  9*p*sqrt(1 - 12*p)/(36*p**2 + 63*p*sqrt(1 - 12*p) - 447*p - 91*sqrt(1 - 12*p) + 37) - 117*p/(36*p**2 + 63*p*sqrt(1 - 12*p) - 447*p - 91*sqrt(1 - 12*p) + 37) - 27*sqrt(1 - 12*p)/(36*p**2 + 63*p*sqrt(1 - 12*p) - 447*p - 91*sqrt(1 - 12*p) + 37) - 27/(36*p**2 + 63*p*sqrt(1 - 12*p) - 447*p - 91*sqrt(1 - 12*p) + 37)\n"
     ]
    }
   ],
   "source": [
    "print('b = ', list(sol.values())[1])"
   ]
  },
  {
   "cell_type": "code",
   "execution_count": 5,
   "id": "11acffa0",
   "metadata": {},
   "outputs": [
    {
     "name": "stdout",
     "output_type": "stream",
     "text": [
      "c =  -3*p*sqrt(1 - 12*p)/(12*p**2 + 7*p*sqrt(1 - 12*p) + 47*p + 28*sqrt(1 - 12*p) - 4) + 45*p/(12*p**2 + 7*p*sqrt(1 - 12*p) + 47*p + 28*sqrt(1 - 12*p) - 4) + 16*sqrt(1 - 12*p)/(12*p**2 + 7*p*sqrt(1 - 12*p) + 47*p + 28*sqrt(1 - 12*p) - 4) - 16/(12*p**2 + 7*p*sqrt(1 - 12*p) + 47*p + 28*sqrt(1 - 12*p) - 4)\n"
     ]
    }
   ],
   "source": [
    "print('c = ', list(sol.values())[2])"
   ]
  },
  {
   "cell_type": "markdown",
   "id": "ae90f0a1",
   "metadata": {},
   "source": [
    "Dado que *c* resulta ser una costante bastante larga, no la sostituimos y rescribimos nuestra ecuacion para $p_{11}^{(n)}$ como:  \n",
    "$$p_{11}^{(n)}=\\frac{p}{p-4} +b \\lambda_2^n+c \\lambda_3^n$$ \n",
    "para los valores calculados previamente de *b*, *c*, *$\\lambda_2$* y *$\\lambda_3$*"
   ]
  },
  {
   "cell_type": "markdown",
   "id": "5295e044",
   "metadata": {},
   "source": [
    "### Solucciones imaginarias\n",
    "Si $p>\\frac{1}{12}$ tenemos que $\\lambda_{2,3}=\\frac{-1 \\pm  i\\sqrt{12p-1}}{6}$\n",
    "\n",
    "y podemos escribir $p_{11}^n$ como:\n",
    "\n",
    "$$ p_{11}^n = a+b\\left( \\frac{-1+ i\\sqrt{12p-1}}{6}\\right)^n + c\\left( \\frac{-1-i\\sqrt{12p-1}}{6}\\right)^n $$\n",
    "\n",
    "Para expresar estos números complejos en términos de una potencia n, usamos la fórmula de Moivre, por la cual:\n",
    "\n",
    "\n",
    "$z^n = r^n  (cos(n\\theta) + i  sin(n\\theta))$\n",
    "\n",
    "Donde: \n",
    "- $r = [z] = \\sqrt{a^2+b^2}$\n",
    "- $\\theta= \\tan ^ {-1} \\left(\\frac{b}{a}\\right)$\n",
    "\n",
    "\n",
    "\n",
    "En nuestro caso, para expresar $\\lambda_{2} = \\frac{-1 + \\sqrt{1-12p}}{6}$ tenemos $a=-\\frac{1}{6}$ y $ b=\\frac{\\sqrt{12p-1}}{6}$.\n",
    "\n",
    "Y para expresar $\\lambda_{3} = \\frac{-1 - \\sqrt{1-12p}}{6}$ tenemos $a=-\\frac{1}{6}$ y $ b=-\\frac{\\sqrt{12p-1}}{6}$.\n",
    "\n",
    "\n",
    "\n",
    "Entonces tendremos:\n",
    "\n",
    "$r= \\sqrt{\\frac{1}{36} + \\frac{12p-1}{36}} = \\sqrt{\\frac{1+12p-1}{36}} = \\frac{\\sqrt{12p}}{6} =\\frac{\\sqrt{3p}}{3}$\n",
    "\n",
    "\n",
    "$\\theta_2= \\tan^{-1} (-\\sqrt{12p-1})$ y $\\theta_3= \\tan^{-1} (\\sqrt{12p-1})$\n",
    "\n",
    "\n",
    "\n",
    "Por lo tanto, llamando $\\theta = tan^{-1}\\sqrt{12p-1}$:\n",
    "\n",
    "$$\\lambda_2^n=\\left( \\frac{\\sqrt{3p}}{3}\\right)^n \\left( \\cos\\theta-i\\sin\\theta\\right)^n = \\left( \\frac{\\sqrt{3p}}{3}\\right)^n \\left( \\cos n\\theta-i\\sin n\\theta\\right)$$\n",
    "\n",
    "\n",
    "\n",
    "$$\\lambda_3^n=\\left( \\frac{\\sqrt{3p}}{3}\\right)^n \\left( \\cos\\theta+i\\sin\\theta\\right)^n = \\left( \\frac{\\sqrt{3p}}{3}\\right)^n \\left( \\cos n\\theta+i\\sin n\\theta\\right)$$\n",
    "\n",
    "\n",
    "\n",
    "Consigue que:\n",
    "\n",
    "$$ p_{11}^n = a+\\left( \\frac{\\sqrt{3p}}{3}\\right)^n\\left( b \\cos n\\theta-bi\\sin n\\theta\\right) + \\left( \\frac{\\sqrt{3p}}{3}\\right)^n \\left( c \\cos n\\theta+ci\\sin n\\theta\\right)$$\n",
    "\n",
    "$$ = a+\\left( \\frac{\\sqrt{3p}}{3}\\right)^n\\left( b \\cos n\\theta-bi\\sin n\\theta + c \\cos n\\theta+ci\\sin n\\theta\\right)$$\n",
    "\n",
    "$$ = \\alpha +\\left( \\frac {\\sqrt{3p}}{3}\\right)^n\\left[ \\beta \\cos n\\theta + \\gamma\\sin n\\theta\\right]$$\n",
    "\n",
    "\n",
    "Donde $\\beta=b+c$ y $\\gamma=ci - bi$\n",
    "\n"
   ]
  },
  {
   "cell_type": "markdown",
   "id": "5765cd64",
   "metadata": {},
   "source": [
    "Substituyendo para los primeros valores de n tendriamos que:\n",
    "\n",
    "\\begin{array}{c c}\n",
    "\\begin{cases}\n",
    "1=p_{11}^{(0)} = \\alpha + (\\beta \\cos0 + \\gamma\\sin0) = \\alpha+ \\beta \\\\\n",
    "0=p_{11}^{(1)} = \\alpha + \\left( \\frac{\\sqrt{3p}}{3}\\right) \\left(\\beta\\cos \\theta+\\gamma\\sin \\theta\\right) \\\\\n",
    "0=p_{11}^{(2)} = \\alpha + \\left( \\frac{\\sqrt{3p}}{3}\\right)^2 \\left(\\beta\\cos 2\\theta+\\gamma\\sin 2\\theta\\right)\n",
    "\\end{cases}\n",
    "\\end{array}\n",
    "\n"
   ]
  },
  {
   "cell_type": "markdown",
   "id": "8be663c0",
   "metadata": {},
   "source": [
    "Sabiendo que:\n",
    "$$\\cos(\\arctan(x))=\\frac{1}{\\sqrt{1+x^2}}$$ y \n",
    "$$\\sin(\\arctan(x))=\\frac{x}{\\sqrt{1+x^2}}$$\n",
    "\n",
    "\n",
    "Tenemos que\n",
    "\n",
    "\n",
    "$$\\cos(\\theta) = \\frac{1}{\\sqrt{1 + (12p-1)}} = \\frac{1}{\\sqrt{12p}}$$ y\n",
    "\n",
    "$$\\sin(\\theta) = \\frac{\\sqrt{12p-1}}{\\sqrt{1 + 12p-1}} = \\sqrt{\\frac{12p-1}{12p}}$$.\n",
    "\n"
   ]
  },
  {
   "cell_type": "markdown",
   "id": "7b50524c",
   "metadata": {},
   "source": [
    "Para calcular $\\cos(2\\theta)$ y $\\sin(2\\theta)$ recordemos que:\n",
    "\n",
    "$$\\cos(2\\theta) = \\cos^2(\\theta) - \\sin^2(\\theta)$$\n",
    "\n",
    "$$\\sin(2\\theta) = 2\\sin(\\theta)\\cos(\\theta)$$ \n",
    "\n",
    "Entonces\n",
    "\n",
    "\n",
    "\n",
    "$$\\cos(2\\theta) = \\left(\\frac{1}{\\sqrt{12p}}\\right)^2 - \\left(\\sqrt{\\frac{12p-1}{12p}}\\right)^2= \\frac{2-12p}{12p}= \\frac{1-6p}{6p}$$ y\n",
    "\n",
    "\n",
    "$$\\sin(2\\theta) = 2  \\sqrt {\\frac{12p-1}{12p}}\\frac{1}{\\sqrt{12p}} =  \\frac{\\sqrt{12p-1}}{6p}$$\n"
   ]
  },
  {
   "cell_type": "markdown",
   "id": "62237848",
   "metadata": {},
   "source": [
    "Volviendo a las substituciones que hicimos antes: \n",
    "\n",
    "\\begin{array}{c c c}\n",
    "\\begin{cases}\n",
    "1=p_{11}^{(0)} = \\alpha + (\\beta \\cos0 + \\gamma\\sin0) = \\alpha+ \\beta \\\\\n",
    "0=p_{11}^{(1)} = \\alpha + \\left( \\frac{\\sqrt{3p}}{3}\\right) \\left(\\beta\\cos \\theta+\\gamma\\sin \\theta\\right) \\\\\n",
    "0=p_{11}^{(2)} = \\alpha + \\left( \\frac{\\sqrt{3p}}{3}\\right)^2 \\left(\\beta\\cos 2\\theta+\\gamma\\sin 2\\theta\\right)\n",
    "\\end{cases}\n",
    "& \\Leftrightarrow\n",
    "\\begin{cases}\n",
    "1 = \\alpha+ \\beta\\\\\n",
    "0= \\alpha + \\left( \\frac{\\sqrt{3p}}{3}\\right) \\left(\\beta\\frac{1}{\\sqrt{12p}}+\\gamma\\sqrt{\\frac{12p-1}{12p}}\\right)\\\\\n",
    "0= \\alpha +  \\frac{3p}{9}\\left(\\beta\\frac{1-6p}{6p}+\\gamma\\frac{\\sqrt{12p-1}}{6p}\\right)\n",
    "\\end{cases}\n",
    "& \\Leftrightarrow\n",
    "\\begin{cases}\n",
    "1= \\alpha+ \\beta \\\\\n",
    "0= \\alpha + \\frac{1}{6}\\left(\\beta+\\gamma\\sqrt{12p-1}\\right) \\\\\n",
    "0=\\alpha + \\frac{1}{18}\\left(\\beta (1-6p)+\\gamma\\sqrt{12p-1}\\right)\n",
    "\\end{cases}\n",
    "\\end{array}\n",
    "\n",
    "\n"
   ]
  },
  {
   "cell_type": "code",
   "execution_count": 6,
   "id": "355314d5",
   "metadata": {},
   "outputs": [],
   "source": [
    "pi = sp.symbols('p', real=True, positive=True, less_than=1, more_than=1/12)\n",
    "alpha, beta, gamma = sp.symbols('alpha beta gamma')\n",
    "eq1i = sp.Eq(alpha + beta , 1)\n",
    "eq2i = sp.Eq(alpha + 1/6*( beta  + gamma * sp.sqrt(12*pi-1)), 0)\n",
    "eq3i = sp.Eq(alpha +1/18*( beta * (1-6*pi) + gamma * sp.sqrt(12*pi-1)), 0)\n",
    "sol_i = sp.solve((eq1i, eq2i, eq3i), (alpha, beta, gamma))"
   ]
  },
  {
   "cell_type": "code",
   "execution_count": 7,
   "id": "c1066bcd",
   "metadata": {},
   "outputs": [
    {
     "name": "stdout",
     "output_type": "stream",
     "text": [
      "alpha =  p/(p + 2.0)\n"
     ]
    }
   ],
   "source": [
    "print('alpha = ', list(sol_i.values())[0])"
   ]
  },
  {
   "cell_type": "code",
   "execution_count": 8,
   "id": "869d9878",
   "metadata": {},
   "outputs": [
    {
     "name": "stdout",
     "output_type": "stream",
     "text": [
      "beta =  2.0/(p + 2.0)\n"
     ]
    }
   ],
   "source": [
    "print('beta = ', list(sol_i.values())[1])"
   ]
  },
  {
   "cell_type": "code",
   "execution_count": 9,
   "id": "fbc45d96",
   "metadata": {},
   "outputs": [
    {
     "name": "stdout",
     "output_type": "stream",
     "text": [
      "gamma =  -6.0*p/(3.46410161513775*p*(p - 0.0833333333333333)**0.5 + 6.92820323027551*(p - 0.0833333333333333)**0.5) - 2.0/(3.46410161513775*p*(p - 0.0833333333333333)**0.5 + 6.92820323027551*(p - 0.0833333333333333)**0.5)\n"
     ]
    }
   ],
   "source": [
    "print('gamma = ', list(sol_i.values())[2])"
   ]
  },
  {
   "cell_type": "markdown",
   "id": "f326ff04",
   "metadata": {},
   "source": [
    "Entonces obtendriamos:  \n",
    "\n",
    "\n",
    "$$p_{1,1}^n = \\frac{p}{p+2}+\\left( \\frac {\\sqrt{3p}}{3}\\right)^n\\left[ \\frac{2}{p+2} \\cos n\\theta + \\gamma\\sin n\\theta\\right]$$\n",
    "\n",
    "\n",
    "Donde $\\gamma$ como anteriormente calculado. "
   ]
  },
  {
   "cell_type": "markdown",
   "id": "dff748b3",
   "metadata": {},
   "source": [
    "## 2) Encontrar la distribucion invariante\n",
    "Para encontrar la distribucion invariante escribimos: \n",
    "\n",
    "$$\\pi P = (\\pi_1,\\pi_2,\\pi_3)P = \\left(p\\pi_3, \\pi_1 +\\frac{2\\pi_2}{3}+(1-p)\\pi_3, \\frac{\\pi_2}{3}\\right)= (\\pi_1,\\pi_2,\\pi_3)$$\n",
    "\n"
   ]
  },
  {
   "cell_type": "markdown",
   "id": "4f068987",
   "metadata": {},
   "source": [
    "\\begin{array}{c c c}\n",
    "& \\Leftrightarrow\n",
    "\\begin{cases}\n",
    "p\\pi_3= \\pi_1 \\\\\n",
    "\\pi_1 +\\frac{2\\pi_2}{3}+(1-p)\\pi_3= \\pi_2 \\\\\n",
    "\\frac{\\pi_2}{3}= \\pi_3 \\\\\n",
    "\\pi_1+ \\pi_2 + \\pi_3= 1 \n",
    "\\end{cases}\n",
    "& \\Leftrightarrow\n",
    "\\begin{cases}\n",
    "\\pi_1= p \\pi_3 \\\\\n",
    "3 p \\pi_3 +2\\pi_2+3 \\pi_3 -3p\\pi_3= 3\\pi_2 \\\\\n",
    "\\pi_2= 3 \\pi_3 \\\\\n",
    "p \\pi_2+ 3 \\pi_3 + \\pi_3= 1 \n",
    "\\end{cases}\n",
    "& \\Leftrightarrow\n",
    "\\begin{cases}\n",
    "\\pi_1= p \\pi_3 \\\\\n",
    "3 p \\pi_3 +6 \\pi_3+3 \\pi_3 -3p\\pi_3= 9 \\pi_3 \\\\\n",
    "\\pi_2= 3 \\pi_3 \\\\\n",
    "\\pi_3= \\frac{1}{p+4} \n",
    "\\end{cases}\n",
    "\\end{array}\n",
    "\n",
    "\\begin{array}{c c c}\n",
    "& \\Leftrightarrow\n",
    "\\begin{cases}\n",
    "\\pi_1= \\frac{p}{p+4} \\\\\n",
    "\\pi_2= \\frac{3}{p+4}  \\\\\n",
    "\\pi_3= \\frac{1}{p+4} \n",
    "\\end{cases}\n",
    "\\end{array}\n"
   ]
  },
  {
   "cell_type": "code",
   "execution_count": 10,
   "id": "6c53e160",
   "metadata": {},
   "outputs": [],
   "source": [
    "p = sp.symbols('p', real=True, positive=True, less_than=1)\n",
    "pi1, pi2, pi3 = sp.symbols('pi1 pi2 pi3')\n",
    "eq1 = sp.Eq(p*pi3-pi1, 0)\n",
    "eq2 = sp.Eq(pi1 + 2/3*pi2-pi2+(1-p)*pi3, 0)\n",
    "eq3 = sp.Eq(pi2/3-pi3, 0)\n",
    "eq4 = sp.Eq(pi1+pi2+pi3, 1)\n",
    "sol = sp.solve((eq1, eq2, eq3, eq4), (pi1, pi2, pi3))"
   ]
  },
  {
   "cell_type": "code",
   "execution_count": 11,
   "id": "72795312",
   "metadata": {},
   "outputs": [
    {
     "name": "stdout",
     "output_type": "stream",
     "text": [
      "{pi1: p/(p + 4.0), pi2: 3.0/(p + 4.0), pi3: 1/(p + 4.0)}\n"
     ]
    }
   ],
   "source": [
    "print(sol)"
   ]
  },
  {
   "cell_type": "markdown",
   "id": "9325b965",
   "metadata": {},
   "source": [
    "Entonces la distribucion invariante es dada por: \n",
    "$$\\pi=\\left(\\frac{p}{p+4}, \\frac{3}{p+4}, \\frac{1}{p+4}\\right) $$"
   ]
  },
  {
   "cell_type": "markdown",
   "id": "ed0b64ca",
   "metadata": {},
   "source": [
    "La probabilidad $P(X_n=1 | X_0=1)$ en estado estacionario se puede calcular de la siguiente manera:\n",
    "\n",
    "$$P(X_n=1 | X_0=1) = \\pi(1)$$ \n",
    "\n",
    "Tomando el limite por $n\\rightarrow\\infty$ de $P(X_n=1 | X_0=1)$ calculados en el punto *a*, obtenemos: \n",
    "\n",
    "- para las soliciones reales:\n",
    "\n",
    "$$\\lim_{n \\to \\infty} p_{11}^{(n)} = \\lim_{n \\to \\infty}\\frac{p}{p-4} +b \\lambda_2^n+c \\lambda_3^n = \\frac{p}{p-4}=\\pi(1)$$ \n",
    "\n",
    "Como esperado.\n",
    "\n",
    "- para las soluciones imaginarias:\n",
    "\n",
    "$$\\lim_{n \\to \\infty} p_{11}^{(n)} = \\lim_{n \\to \\infty} \\frac{p}{p+2}+\\left( \\frac {\\sqrt{3p}}{3}\\right)^n\\left[ \\frac{2}{p+2} \\cos n\\theta + \\gamma\\sin n\\theta\\right] = \\frac{p}{p+2}$$ \n"
   ]
  },
  {
   "cell_type": "code",
   "execution_count": null,
   "id": "0ee3929e",
   "metadata": {},
   "outputs": [],
   "source": []
  },
  {
   "cell_type": "code",
   "execution_count": null,
   "id": "545fcf04",
   "metadata": {},
   "outputs": [],
   "source": []
  },
  {
   "cell_type": "code",
   "execution_count": null,
   "id": "ab601b32",
   "metadata": {},
   "outputs": [],
   "source": []
  },
  {
   "cell_type": "code",
   "execution_count": null,
   "id": "c6852a15",
   "metadata": {},
   "outputs": [],
   "source": []
  }
 ],
 "metadata": {
  "kernelspec": {
   "display_name": "Python 3 (ipykernel)",
   "language": "python",
   "name": "python3"
  },
  "language_info": {
   "codemirror_mode": {
    "name": "ipython",
    "version": 3
   },
   "file_extension": ".py",
   "mimetype": "text/x-python",
   "name": "python",
   "nbconvert_exporter": "python",
   "pygments_lexer": "ipython3",
   "version": "3.9.12"
  }
 },
 "nbformat": 4,
 "nbformat_minor": 5
}
